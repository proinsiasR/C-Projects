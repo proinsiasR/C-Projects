{
  "nbformat": 4,
  "nbformat_minor": 0,
  "metadata": {
    "colab": {
      "name": "luhn_algorithm.ipynb",
      "provenance": [],
      "authorship_tag": "ABX9TyMwk8/RkFuJVJyMrxX9yje1",
      "include_colab_link": true
    },
    "kernelspec": {
      "name": "python3",
      "display_name": "Python 3"
    },
    "language_info": {
      "name": "python"
    }
  },
  "cells": [
    {
      "cell_type": "markdown",
      "metadata": {
        "id": "view-in-github",
        "colab_type": "text"
      },
      "source": [
        "<a href=\"https://colab.research.google.com/github/proinsiasR/C-Projects/blob/main/luhn_algorithm.ipynb\" target=\"_parent\"><img src=\"https://colab.research.google.com/assets/colab-badge.svg\" alt=\"Open In Colab\"/></a>"
      ]
    },
    {
      "cell_type": "code",
      "execution_count": 37,
      "metadata": {
        "colab": {
          "base_uri": "https://localhost:8080/"
        },
        "id": "9CNgDr91--0m",
        "outputId": "bdd7b5ff-d504-4c69-cdc1-24390f1efbc1"
      },
      "outputs": [
        {
          "output_type": "stream",
          "name": "stdout",
          "text": [
            "Give a card number: 8001240\n",
            "True\n"
          ]
        }
      ],
      "source": [
        "import math\n",
        "\n",
        "def isvalidcard(card_num):\n",
        "  card_num\n",
        "  issecond = False\n",
        "  checksum = 0\n",
        "  for i in range(len(card_num)-1,-1,-1):\n",
        "    digit = int(card_num[i])\n",
        "    if issecond:\n",
        "      digit = (digit*2)\n",
        "      digit = (digit%10 + math.floor(digit/10))\n",
        "    checksum += digit\n",
        "    issecond = not issecond\n",
        "  if checksum%10 == 0:\n",
        "    return True\n",
        "  else:\n",
        "    return False\n",
        "\n",
        "card = input(\"Give a card number: \")\n",
        "print(isvalidcard(card))"
      ]
    },
    {
      "cell_type": "code",
      "source": [
        "import math\n",
        "\n",
        "\n",
        "def last_digit(card_num):\n",
        "  card_num\n",
        "  issecond = True\n",
        "  checksum = 0\n",
        "  for i in range(len(card_num)-1,-1,-1):\n",
        "    digit = int(card_num[i])\n",
        "    if issecond:\n",
        "      digit = (digit*2)\n",
        "      digit = (digit%10 + math.floor(digit/10))\n",
        "    checksum += digit\n",
        "    issecond = not issecond\n",
        "  return((10-checksum%10)%10)\n",
        "\n",
        "card = input(\"Give partial card #: \")\n",
        "last_digit(card)"
      ],
      "metadata": {
        "colab": {
          "base_uri": "https://localhost:8080/"
        },
        "id": "Xb09UhxrFyIb",
        "outputId": "2afa59bf-5453-4610-b829-88cce3da06b9"
      },
      "execution_count": 41,
      "outputs": [
        {
          "name": "stdout",
          "output_type": "stream",
          "text": [
            "Give partial card #: 800124\n"
          ]
        },
        {
          "output_type": "execute_result",
          "data": {
            "text/plain": [
              "0"
            ]
          },
          "metadata": {},
          "execution_count": 41
        }
      ]
    }
  ]
}